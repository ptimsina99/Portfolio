{
 "cells": [
  {
   "cell_type": "code",
   "execution_count": 1,
   "id": "1ff9607c",
   "metadata": {},
   "outputs": [],
   "source": [
    "import csv\n",
    "import pandas as pd\n",
    "import requests\n",
    "import time\n",
    "from bs4 import BeautifulSoup\n",
    "import matplotlib.pyplot as plt\n",
    "import seaborn as sns\n",
    "import numpy as np\n",
    "from scipy import stats\n",
    "import cloudscraper\n",
    "from datetime import datetime\n",
    "#from msedge.selenium_tools import Edge, EdgeOptions\n",
    "from selenium.common.exceptions import NoSuchElementException, ElementNotInteractableException\n",
    "from selenium import webdriver\n",
    "from selenium.webdriver.edge import service\n",
    "from selenium.webdriver.common.by import By\n",
    "from selenium.webdriver.support.ui import WebDriverWait\n",
    "from selenium.webdriver.common.by import By\n",
    "from selenium.webdriver.support import expected_conditions as EC\n",
    "from selenium.common.exceptions import TimeoutException\n",
    "from selenium.webdriver.common.action_chains import ActionChains\n",
    "from selenium.webdriver.chrome.service import Service as ChromeService\n",
    "from selenium.webdriver.chrome.options import Options as ChromeOptions"
   ]
  },
  {
   "cell_type": "code",
   "execution_count": 2,
   "id": "4282834e",
   "metadata": {},
   "outputs": [],
   "source": [
    "temp = 'https://ca.indeed.com/jobs?q={}&l={}'"
   ]
  },
  {
   "cell_type": "code",
   "execution_count": 3,
   "id": "dcd32450",
   "metadata": {},
   "outputs": [],
   "source": [
    "def get_url(job_position, location):\n",
    "    \"\"\"Generate an indeed job posting URL from position and Location\"\"\"\n",
    "    temp = 'https://ca.indeed.com/jobs?q={}&l={}'\n",
    "    position = job_position.replace(' ', '+')\n",
    "    location = location.replace(' ', '+')\n",
    "    url = temp.format(position, location)\n",
    "    return url"
   ]
  },
  {
   "cell_type": "code",
   "execution_count": 4,
   "id": "8178aa97",
   "metadata": {},
   "outputs": [
    {
     "data": {
      "text/plain": [
       "'https://ca.indeed.com/jobs?q=Data+Analyst&l=Toronto+ON'"
      ]
     },
     "execution_count": 4,
     "metadata": {},
     "output_type": "execute_result"
    }
   ],
   "source": [
    "url = get_url('Data Analyst', 'Toronto ON')\n",
    "url"
   ]
  },
  {
   "cell_type": "code",
   "execution_count": 5,
   "id": "6a7aaa13",
   "metadata": {},
   "outputs": [],
   "source": [
    "# Extract each job posting record\n",
    "def job_posting_record(card):\n",
    "    Job_title = card.find_element(By.CLASS_NAME, 'jobTitle').text\n",
    "    Company = card.find_element(By.CLASS_NAME, 'companyName').text\n",
    "    try:\n",
    "        Rating = card.find_element(By.CLASS_NAME, 'ratingNumber').text\n",
    "    except NoSuchElementException:\n",
    "        Rating = 'N/A'\n",
    "    Location = card.find_element(By.CLASS_NAME, 'companyLocation').text\n",
    "    try:\n",
    "        Salary = card.find_element(By.CSS_SELECTOR, 'div.metadata.salary-snippet-container > div.attribute_snippet').text\n",
    "    except NoSuchElementException:\n",
    "        Salary = 'N/A'\n",
    "    Date_Posted = card.find_element(By.XPATH, '//span[@class=\"date\"]').text.split(\"\\n\")[-1]\n",
    "    Date_Extracted = datetime.today().strftime('%Y-%m-%d')\n",
    "    try:\n",
    "        Easy_Apply = card.find_element(By.CLASS_NAME, 'ialbl.iaTextBlack').text\n",
    "    except NoSuchElementException:\n",
    "        Easy_Apply = 'No'\n",
    "    Job_summary = card.find_element(By.CLASS_NAME, 'job-snippet').text\n",
    "    Job_url = card.find_element(By.XPATH, '//h2[contains(@class, \"jobTitle\")]/a[@href]').get_attribute('href')\n",
    "    return (Job_title, Company, Rating, Location, Salary, Date_Posted, Date_Extracted, Easy_Apply, Job_summary, Job_url)"
   ]
  },
  {
   "cell_type": "code",
   "execution_count": 6,
   "id": "1bc080d9",
   "metadata": {},
   "outputs": [],
   "source": [
    "# Extract all the cards from each page\n",
    "def posting_page_record(posting, job_list, url_set):\n",
    "    for card in posting:\n",
    "        record = job_posting_record(card)\n",
    "        # ensure no duplicates are added\n",
    "        #if record[-1] not in url_set:\n",
    "        job_list.append(record)\n",
    "        url_set.add(record[-1])"
   ]
  },
  {
   "cell_type": "code",
   "execution_count": 10,
   "id": "018fb9a4",
   "metadata": {},
   "outputs": [],
   "source": [
    "def postings(job_position, location):\n",
    "    scrapped_jobs = []\n",
    "    scrapped_urls = set()\n",
    "    \n",
    "    url = get_url(job_position, location)\n",
    "    \n",
    "    # web driver\n",
    "    chromeOptions = ChromeOptions()\n",
    "    chromeOptions.add_argument(\"start-maximized\")\n",
    "    chromeOptions.add_argument('user-agent=Mozilla/5.0 (Windows NT 10.0; Win64; x64) AppleWebKit/537.36 (KHTML, like Gecko) Chrome/108.0.0.0 Safari/537.36')\n",
    "    s=ChromeService(r'C:\\Users\\Administrator\\Desktop\\chromedriver.exe') # <-- Set the correct path to your ChromeDriver\n",
    "    driver = webdriver.Chrome(service=s, options=chromeOptions)\n",
    "    driver.maximize_window()\n",
    "    driver.set_page_load_timeout(10)\n",
    "    driver.get(url)\n",
    "    \n",
    "    time.sleep(20)\n",
    "    \n",
    "    # extract jobs data\n",
    "    while True:\n",
    "        posting = driver.find_elements(By.CLASS_NAME, \"job_seen_beacon\")\n",
    "        posting_page_record(posting, scrapped_jobs, scrapped_urls)\n",
    "        try:\n",
    "            time.sleep(20)\n",
    "            #WebDriverWait(driver, 30).until(EC.invisibility_of_element_located((By.XPATH, '//div[@class=\"gnav-CookiePrivacyNoticeBanner\"]')))\n",
    "            #WebDriverWait(driver, 20).until(EC.invisibility_of_element_located((By.CSS_SELECTOR, 'div.gnav-CookiePrivacyNoticeBanner')))\n",
    "            #WebDriverWait(driver, 30).until(EC.element_to_be_clickable((By.XPATH, '//a[@aria-label=\"Next Page\"]'))).click()\n",
    "            #WebDriverWait(driver, 20).until(EC.element_to_be_clickable((By.CSS_SELECTOR, '[aria-label=Next Page]'))).click()\n",
    "            next_page = driver.find_element(By.XPATH, '//a[@aria-label=\"Next Page\"]')\n",
    "            driver.execute_script(\"arguments[0].click();\", next_page)\n",
    "            #ActionChains(driver).move_to_element(next_page).click().perform()\n",
    "        except NoSuchElementException:\n",
    "            break\n",
    "        #except TimeoutException:\n",
    "           # break\n",
    "        except ElementNotInteractableException:\n",
    "            driver.find_element(By.XPATH, '//button[@aria-label=\"close\"]').click()\n",
    "            posting_page_record(posting, scrapped_jobs, scrapped_urls)\n",
    "            continue\n",
    "    \n",
    "    #close driver\n",
    "    driver.close()\n",
    "    #save data\n",
    "    save_to_file(scrapped_jobs)"
   ]
  },
  {
   "cell_type": "code",
   "execution_count": 11,
   "id": "3b334896",
   "metadata": {},
   "outputs": [],
   "source": [
    "def save_to_file(records):\n",
    "    with open('DA_Postings_31JUL2023.csv', 'w', newline='', encoding='utf-8') as f:\n",
    "        writer = csv.writer(f)\n",
    "        writer.writerow(['Job_title', 'Company', 'Rating', 'Location', 'Salary', 'Date_Posted', 'Date_Extracted', 'Easy_Apply', 'Job_Summary', 'Job_url'])\n",
    "        writer.writerows(records)"
   ]
  },
  {
   "cell_type": "code",
   "execution_count": 12,
   "id": "88400732",
   "metadata": {},
   "outputs": [],
   "source": [
    "postings('Data Analyst', 'Toronto ON')"
   ]
  },
  {
   "cell_type": "code",
   "execution_count": null,
   "id": "8abccb5a",
   "metadata": {},
   "outputs": [],
   "source": []
  }
 ],
 "metadata": {
  "kernelspec": {
   "display_name": "Python 3 (ipykernel)",
   "language": "python",
   "name": "python3"
  },
  "language_info": {
   "codemirror_mode": {
    "name": "ipython",
    "version": 3
   },
   "file_extension": ".py",
   "mimetype": "text/x-python",
   "name": "python",
   "nbconvert_exporter": "python",
   "pygments_lexer": "ipython3",
   "version": "3.9.7"
  }
 },
 "nbformat": 4,
 "nbformat_minor": 5
}
